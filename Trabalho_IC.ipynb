{
  "nbformat": 4,
  "nbformat_minor": 0,
  "metadata": {
    "colab": {
      "provenance": [],
      "mount_file_id": "1i1fFzuVuwT8PY4zt8BihwNpMKwXbhj5V",
      "authorship_tag": "ABX9TyNat5vUrrkIS+GabEQuSHAd",
      "include_colab_link": true
    },
    "kernelspec": {
      "name": "python3",
      "display_name": "Python 3"
    },
    "language_info": {
      "name": "python"
    }
  },
  "cells": [
    {
      "cell_type": "markdown",
      "metadata": {
        "id": "view-in-github",
        "colab_type": "text"
      },
      "source": [
        "<a href=\"https://colab.research.google.com/github/Maycon-douglas-Medeiros/MayContainGame/blob/master/Trabalho_IC.ipynb\" target=\"_parent\"><img src=\"https://colab.research.google.com/assets/colab-badge.svg\" alt=\"Open In Colab\"/></a>"
      ]
    },
    {
      "cell_type": "code",
      "source": [
        "!pip install pyswip\n",
        "!apt-get install swi-prolog"
      ],
      "metadata": {
        "colab": {
          "base_uri": "https://localhost:8080/"
        },
        "id": "W5Qv5gGDttg9",
        "outputId": "61e9b98e-c9ed-4371-fafd-ce0ecc59a6c4"
      },
      "execution_count": 33,
      "outputs": [
        {
          "output_type": "stream",
          "name": "stdout",
          "text": [
            "Requirement already satisfied: pyswip in /usr/local/lib/python3.10/dist-packages (0.2.10)\n",
            "Reading package lists... Done\n",
            "Building dependency tree... Done\n",
            "Reading state information... Done\n",
            "swi-prolog is already the newest version (8.4.2+dfsg-2ubuntu1).\n",
            "0 upgraded, 0 newly installed, 0 to remove and 45 not upgraded.\n"
          ]
        }
      ]
    },
    {
      "cell_type": "code",
      "source": [
        "!pip install PyPDF2"
      ],
      "metadata": {
        "colab": {
          "base_uri": "https://localhost:8080/"
        },
        "id": "nHzFjXyeuO8t",
        "outputId": "0780878b-9304-4eef-ec3e-d309b251f769"
      },
      "execution_count": 34,
      "outputs": [
        {
          "output_type": "stream",
          "name": "stdout",
          "text": [
            "Requirement already satisfied: PyPDF2 in /usr/local/lib/python3.10/dist-packages (3.0.1)\n"
          ]
        }
      ]
    },
    {
      "cell_type": "code",
      "source": [
        "!pip install reportlab"
      ],
      "metadata": {
        "colab": {
          "base_uri": "https://localhost:8080/"
        },
        "id": "0O4uiFseuZgV",
        "outputId": "428b539f-0527-44ea-8eb9-03e6fd917785"
      },
      "execution_count": 35,
      "outputs": [
        {
          "output_type": "stream",
          "name": "stdout",
          "text": [
            "Requirement already satisfied: reportlab in /usr/local/lib/python3.10/dist-packages (4.2.2)\n",
            "Requirement already satisfied: pillow>=9.0.0 in /usr/local/lib/python3.10/dist-packages (from reportlab) (9.4.0)\n",
            "Requirement already satisfied: chardet in /usr/local/lib/python3.10/dist-packages (from reportlab) (5.2.0)\n"
          ]
        }
      ]
    },
    {
      "cell_type": "code",
      "source": [
        "!apt-get install -y ttf-mscorefonts-installer\n",
        "!fc-cache -fv"
      ],
      "metadata": {
        "colab": {
          "base_uri": "https://localhost:8080/"
        },
        "id": "4Vghy6XsxHC0",
        "outputId": "c1c0d47a-d428-49f0-ab3b-61a06fa21610"
      },
      "execution_count": 36,
      "outputs": [
        {
          "output_type": "stream",
          "name": "stdout",
          "text": [
            "Reading package lists... Done\n",
            "Building dependency tree... Done\n",
            "Reading state information... Done\n",
            "ttf-mscorefonts-installer is already the newest version (3.8ubuntu2).\n",
            "0 upgraded, 0 newly installed, 0 to remove and 45 not upgraded.\n",
            "/usr/share/fonts: caching, new cache contents: 0 fonts, 2 dirs\n",
            "/usr/share/fonts/X11: caching, new cache contents: 0 fonts, 2 dirs\n",
            "/usr/share/fonts/X11/encodings: caching, new cache contents: 0 fonts, 1 dirs\n",
            "/usr/share/fonts/X11/encodings/large: caching, new cache contents: 0 fonts, 0 dirs\n",
            "/usr/share/fonts/X11/util: caching, new cache contents: 0 fonts, 0 dirs\n",
            "/usr/share/fonts/truetype: caching, new cache contents: 0 fonts, 3 dirs\n",
            "/usr/share/fonts/truetype/humor-sans: caching, new cache contents: 1 fonts, 0 dirs\n",
            "/usr/share/fonts/truetype/liberation: caching, new cache contents: 16 fonts, 0 dirs\n",
            "/usr/share/fonts/truetype/msttcorefonts: caching, new cache contents: 0 fonts, 0 dirs\n",
            "/usr/local/share/fonts: caching, new cache contents: 0 fonts, 0 dirs\n",
            "/root/.local/share/fonts: skipping, no such directory\n",
            "/root/.fonts: skipping, no such directory\n",
            "/usr/share/fonts/X11: skipping, looped directory detected\n",
            "/usr/share/fonts/truetype: skipping, looped directory detected\n",
            "/usr/share/fonts/X11/encodings: skipping, looped directory detected\n",
            "/usr/share/fonts/X11/util: skipping, looped directory detected\n",
            "/usr/share/fonts/truetype/humor-sans: skipping, looped directory detected\n",
            "/usr/share/fonts/truetype/liberation: skipping, looped directory detected\n",
            "/usr/share/fonts/truetype/msttcorefonts: skipping, looped directory detected\n",
            "/usr/share/fonts/X11/encodings/large: skipping, looped directory detected\n",
            "/var/cache/fontconfig: cleaning cache directory\n",
            "/root/.cache/fontconfig: not cleaning non-existent cache directory\n",
            "/root/.fontconfig: not cleaning non-existent cache directory\n",
            "fc-cache: succeeded\n"
          ]
        }
      ]
    },
    {
      "cell_type": "code",
      "execution_count": 39,
      "metadata": {
        "id": "Ht3JeWrnteKB"
      },
      "outputs": [],
      "source": [
        "import gspread\n",
        "from oauth2client.service_account import ServiceAccountCredentials\n",
        "from pyswip import Prolog\n",
        "from PyPDF2 import PdfReader, PdfWriter\n",
        "from reportlab.pdfgen import canvas\n",
        "from reportlab.lib.pagesizes import letter\n",
        "from reportlab.pdfgen import canvas\n",
        "from reportlab.pdfbase.ttfonts import TTFont\n",
        "from reportlab.pdfbase import pdfmetrics\n",
        "\n",
        "credentials_file = '/service_account.json'\n",
        "\n",
        "gc = gspread.service_account(filename=credentials_file)\n",
        "sh = gc.open_by_url('https://docs.google.com/spreadsheets/d/1fxeAGg3KmBJ3fm5fqJI0FvLKGkaDhRMxoGTt5jUtgss/edit?resourcekey=&gid=426825857#gid=426825857')\n",
        "worksheet = sh.sheet1\n",
        "data = worksheet.get_all_values()\n",
        "\n",
        "respostas = []\n",
        "for row in data[1:]:\n",
        "    respostas.append(row[1:7])\n",
        "\n",
        "with open('respostas.pl', 'w') as file:\n",
        "    file.write(\"% Data\\n\")\n",
        "    for linha in respostas:\n",
        "        file.write(\"resposta({}).\\n\".format(','.join(linha[3:])))\n",
        "\n",
        "prolog = Prolog()\n",
        "prolog.consult('respostas.pl')\n",
        "\n",
        "def create_temp_pdf_with_text(text, position):\n",
        "    temp_pdf_path = \"temp_text_pdf.pdf\"\n",
        "    c = canvas.Canvas(temp_pdf_path, pagesize=letter)\n",
        "\n",
        "    lines = text.split('\\n')\n",
        "\n",
        "    for line in lines:\n",
        "        c.drawString(position[0], position[1], line)\n",
        "        position = (position[0], position[1] - 12)\n",
        "\n",
        "    c.save()\n",
        "    return temp_pdf_path\n",
        "\n",
        "def add_text_to_pdf(input_pdf_path, output_pdf_path, text, line_number):\n",
        "    reader = PdfReader(input_pdf_path)\n",
        "    writer = PdfWriter()\n",
        "\n",
        "    line_height = 12\n",
        "    y_position = letter[1] - (line_number * line_height)\n",
        "    position = (45.5, y_position)\n",
        "\n",
        "    temp_pdf_path = create_temp_pdf_with_text(text, position)\n",
        "\n",
        "    with open(temp_pdf_path, \"rb\") as temp_pdf_file:\n",
        "        temp_reader = PdfReader(temp_pdf_file)\n",
        "        temp_page = temp_reader.pages[0]\n",
        "\n",
        "        for page_num in range(len(reader.pages)):\n",
        "            original_page = reader.pages[page_num]\n",
        "            original_page.merge_page(temp_page)\n",
        "            writer.add_page(original_page)\n",
        "\n",
        "    with open(output_pdf_path, 'wb') as output_pdf:\n",
        "        writer.write(output_pdf)\n",
        "\n",
        "input_pdf_path = 'esqueleto_laudo.pdf'\n",
        "line_number = 27.2\n",
        "contador = 0\n",
        "for teste in prolog.query(\"resposta(X,Y,Z)\"):\n",
        "    if (teste['X'] == 'sim' and teste['Y'] == 'sim' and teste['Z'] == 'sim'):\n",
        "        text_to_add = \"\"\"\n",
        "Exame realizado em mamógrafo digital, marca Siemens, nas incidências de rotina Craniocaudal (CC)\n",
        "e Mediolateral Oblíqua (MLO) com extensão axilar usando foco de 0,3 mm, complementado com\n",
        "tomossíntese para melhor visualização de achados anormais, adaptado para pacientes com implantes\n",
        "mamários. Apesar de alguns desafios técnicos, como a posição do implante, os filmes serão impressos\n",
        "e entregues posteriormente ao exame.\n",
        "\"\"\"\n",
        "    elif (teste['X'] == 'sim' and teste['Y'] == 'sim' and teste['Z'] == 'não'):\n",
        "        text_to_add = \"\"\"\n",
        "Exame realizado em mamógrafo digital, marca Siemens, nas incidências de rotina Craniocaudal (CC)\n",
        "e Mediolateral Oblíqua (MLO) com extensão axilar usando foco de 0,3 mm, complementado com\n",
        "tomossíntese para melhor visualização de achados anormais, adaptado para pacientes com implantes\n",
        "mamários. Os filmes serão impressos e entregues posteriormente ao exame.\n",
        "\"\"\"\n",
        "    elif (teste['X'] == 'sim' and teste['Y'] == 'não' and teste['Z'] == 'sim'):\n",
        "        text_to_add = \"\"\"\n",
        "Exame realizado em mamógrafo digital, marca Siemens, nas incidências de rotina Craniocaudal (CC)\n",
        "e Mediolateral Oblíqua (MLO) com extensão axilar usando foco de 0,3 mm, adaptado para pacientes\n",
        "com implantes mamários. Apesar de alguns desafios técnicos, como a posição do implante, os filmes\n",
        "serão impressos e entregues posteriormente ao exame.\n",
        "\"\"\"\n",
        "    elif (teste['X'] == 'não' and teste['Y'] == 'sim' and teste['Z'] == 'sim'):\n",
        "        text_to_add = \"\"\"\n",
        "Exame realizado em mamógrafo digital, marca Siemens, nas incidências de rotina Craniocaudal (CC)\n",
        "e Mediolateral Oblíqua (MLO) com extensão axilar usando foco de 0,3 mm, complementado com\n",
        "tomossíntese para melhor visualização de achados anormais. Apesar de alguns desafios técnicos,\n",
        "como a posição da paciente, os filmes serão impressos e entregues posteriormente ao exame.\n",
        "\"\"\"\n",
        "    elif (teste['X'] == 'sim' and teste['Y'] == 'não' and teste['Z'] == 'não'):\n",
        "        text_to_add = \"\"\"\n",
        "Exame realizado em mamógrafo digital, marca Siemens, nas incidências de rotina Craniocaudal (CC)\n",
        "e Mediolateral Oblíqua (MLO) com extensão axilar usando foco de 0,3 mm, adaptado para pacientes\n",
        "com implantes mamários. Os filmes serão impressos e entregues posteriormente ao exame.\n",
        "\"\"\"\n",
        "    elif (teste['X'] == 'não' and teste['Y'] == 'sim' and teste['Z'] == 'não'):\n",
        "        text_to_add = \"\"\"\n",
        "Exame realizado em mamógrafo digital, marca Siemens, nas incidências de rotina Craniocaudal (CC) e\n",
        "Mediolateral Oblíqua (MLO) com extensão axilar usando foco de 0,3 mm, complementado com tomossíntese\n",
        "para melhor visualização de achados anormais. Os filmes serão impressos e entregues posteriormente ao\n",
        "exame.\n",
        "\"\"\"\n",
        "    elif (teste['X'] == 'não' and teste['Y'] == 'não' and teste['Z'] == 'sim'):\n",
        "        text_to_add = \"\"\"\n",
        "Exame realizado em mamógrafo digital, marca Siemens, nas incidências de rotina Craniocaudal (CC)\n",
        "e Mediolateral Oblíqua (MLO) com extensão axilar usando foco de 0,3 mm. Apesar de alguns desafios técnicos,\n",
        "como a posição da paciente, os filmes serão impressos e entregues posteriormente ao exame.\n",
        "\"\"\"\n",
        "    else:\n",
        "        text_to_add = \"\"\"\n",
        "Exame realizado em mamógrafo digital, marca Siemens, nas incidências de rotina Craniocaudal (CC)\n",
        "e Mediolateral Oblíqua (MLO) com extensão axilar usando foco de 0,3 mm. Os filmes serão impressos\n",
        "e entregues posteriormente ao exame.\n",
        "\"\"\"\n",
        "\n",
        "    output_pdf_path = f'esqueleto_laudo_novo_{contador}.pdf'\n",
        "    add_text_to_pdf(input_pdf_path, output_pdf_path, text_to_add, line_number)\n",
        "    contador += 1\n"
      ]
    }
  ]
}